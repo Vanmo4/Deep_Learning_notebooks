{
  "nbformat": 4,
  "nbformat_minor": 0,
  "metadata": {
    "colab": {
      "provenance": [],
      "include_colab_link": true
    },
    "kernelspec": {
      "name": "python3",
      "display_name": "Python 3"
    }
  },
  "cells": [
    {
      "cell_type": "markdown",
      "metadata": {
        "id": "view-in-github",
        "colab_type": "text"
      },
      "source": [
        "<a href=\"https://colab.research.google.com/github/Vanmo4/Deep_Learning_notebooks/blob/main/Deep_Learning_frameworks14.ipynb\" target=\"_parent\"><img src=\"https://colab.research.google.com/assets/colab-badge.svg\" alt=\"Open In Colab\"/></a>"
      ]
    },
    {
      "cell_type": "markdown",
      "metadata": {
        "id": "girA51a7p2KQ"
      },
      "source": [
        "**PyTorch** идет предустановленным в Google Colab, просто импортируем"
      ]
    },
    {
      "cell_type": "code",
      "metadata": {
        "id": "x9pn2-oIpD9l"
      },
      "source": [
        "import torch\n",
        "import numpy as np"
      ],
      "execution_count": 1,
      "outputs": []
    },
    {
      "cell_type": "markdown",
      "metadata": {
        "id": "ymOllVpQuE4-"
      },
      "source": [
        "**Матричное умножение** - операция над матрицами, где результирующая матрица составлена скалярными произведениями строк и рядов\n",
        "\n",
        "**Скалярное произведение** двух векторов - сумма произведений элементов в соответствующих позициях этих векторов"
      ]
    },
    {
      "cell_type": "code",
      "metadata": {
        "colab": {
          "base_uri": "https://localhost:8080/"
        },
        "id": "4HxJbtpyy6Xv",
        "outputId": "9a92b93a-fbaa-4269-ed85-305bbf964193"
      },
      "source": [
        "v1 = np.array([1, 2])\n",
        "v2 = np.array([3, 4])\n",
        "np.dot(v1, v2)"
      ],
      "execution_count": 2,
      "outputs": [
        {
          "output_type": "execute_result",
          "data": {
            "text/plain": [
              "11"
            ]
          },
          "metadata": {},
          "execution_count": 2
        }
      ]
    },
    {
      "cell_type": "code",
      "metadata": {
        "colab": {
          "base_uri": "https://localhost:8080/"
        },
        "id": "rsjUyXTNubRe",
        "outputId": "3395bc6e-f360-41ae-f663-b889cc8b6d01"
      },
      "source": [
        "t1 = torch.Tensor([[1, 2], [3, 4]])\n",
        "t2 = torch.ones(2, 2) * 2\n",
        "print(t1)\n",
        "print(t2)"
      ],
      "execution_count": 3,
      "outputs": [
        {
          "output_type": "stream",
          "name": "stdout",
          "text": [
            "tensor([[1., 2.],\n",
            "        [3., 4.]])\n",
            "tensor([[2., 2.],\n",
            "        [2., 2.]])\n"
          ]
        }
      ]
    },
    {
      "cell_type": "markdown",
      "metadata": {
        "id": "nyKejETv1F0Q"
      },
      "source": [
        "теперь умножим эти две матрицы операцией **@** (аналог - torch.**matmul**())"
      ]
    },
    {
      "cell_type": "code",
      "metadata": {
        "colab": {
          "base_uri": "https://localhost:8080/"
        },
        "id": "f0Ww9Td5utiW",
        "outputId": "6ad0b7be-f3ea-43b7-c76b-65d1b510cbc0"
      },
      "source": [
        "t1 @ t2"
      ],
      "execution_count": 4,
      "outputs": [
        {
          "output_type": "execute_result",
          "data": {
            "text/plain": [
              "tensor([[ 6.,  6.],\n",
              "        [14., 14.]])"
            ]
          },
          "metadata": {},
          "execution_count": 4
        }
      ]
    },
    {
      "cell_type": "markdown",
      "metadata": {
        "id": "_uAFKDy01rNe"
      },
      "source": [
        "**Задание**: вычислить выражение\n",
        "\n",
        "**Дано**: 2 матричных тензора **t1** и **t2**"
      ]
    },
    {
      "cell_type": "code",
      "metadata": {
        "colab": {
          "base_uri": "https://localhost:8080/"
        },
        "id": "B2u-ftYJraZO",
        "outputId": "eacdf72e-dd1f-404f-c73b-3d3dadb2b8ec"
      },
      "source": [
        "t1 = torch.stack([torch.Tensor([1, 1, 1, 1]) * n for n in range(1, 5)])\n",
        "t2 = t1.transpose(-1, -2)\n",
        "print(t1)\n",
        "print(t2)"
      ],
      "execution_count": 5,
      "outputs": [
        {
          "output_type": "stream",
          "name": "stdout",
          "text": [
            "tensor([[1., 1., 1., 1.],\n",
            "        [2., 2., 2., 2.],\n",
            "        [3., 3., 3., 3.],\n",
            "        [4., 4., 4., 4.]])\n",
            "tensor([[1., 2., 3., 4.],\n",
            "        [1., 2., 3., 4.],\n",
            "        [1., 2., 3., 4.],\n",
            "        [1., 2., 3., 4.]])\n"
          ]
        }
      ]
    },
    {
      "cell_type": "markdown",
      "metadata": {
        "id": "TLD4zARs6vS_"
      },
      "source": [
        "**1**) Вычислить выражение **t3** = t1 ** 2 - t2 * 2 + t1 * 4\n",
        "\n",
        "2) Сделать конкатенацию тензоров **t2** и **t3**, записать в тензор **t4** (должна получиться размерность 4 строки и 8 столбцов)\n",
        "\n",
        "Конкатенация - операция, в которой результирующая матрица составлена из рядов первой и второй матрицы, если конкатенация идет вдоль столбцов, или из столбцов первой и второй матрицы, если конкатенация идет вдоль строк.\n",
        "\n",
        "Делается оператором **torch.cat**(tensors, dim), где\n",
        "\n",
        "**tensors** - список исходных тензоров\n",
        "\n",
        "**dim** - измерение, вдоль которого делается конкатенация, 0 - вдоль столбцов, 1 - вдоль строк\n",
        "\n",
        "\n",
        "\n",
        "3) Посчитать скалярное произведение **первой** и **последней** строки матрицы тензора **t4**"
      ]
    },
    {
      "cell_type": "code",
      "metadata": {
        "id": "g05gAqVEtO-F",
        "colab": {
          "base_uri": "https://localhost:8080/"
        },
        "outputId": "43fa52a9-3aff-42ba-fba9-e3a4a2006ecc"
      },
      "source": [
        "t3 = (t1**2) - (t2*2) + (t1*4)\n",
        "t3"
      ],
      "execution_count": 6,
      "outputs": [
        {
          "output_type": "execute_result",
          "data": {
            "text/plain": [
              "tensor([[ 3.,  1., -1., -3.],\n",
              "        [10.,  8.,  6.,  4.],\n",
              "        [19., 17., 15., 13.],\n",
              "        [30., 28., 26., 24.]])"
            ]
          },
          "metadata": {},
          "execution_count": 6
        }
      ]
    },
    {
      "cell_type": "code",
      "source": [
        "t4 = torch.cat((t2, t3), dim=1)\n",
        "t4"
      ],
      "metadata": {
        "colab": {
          "base_uri": "https://localhost:8080/"
        },
        "id": "JkcXH8FdToL4",
        "outputId": "4fd389be-525a-4fb5-faa6-250cc8ecc763"
      },
      "execution_count": 8,
      "outputs": [
        {
          "output_type": "execute_result",
          "data": {
            "text/plain": [
              "tensor([[ 1.,  2.,  3.,  4.,  3.,  1., -1., -3.],\n",
              "        [ 1.,  2.,  3.,  4., 10.,  8.,  6.,  4.],\n",
              "        [ 1.,  2.,  3.,  4., 19., 17., 15., 13.],\n",
              "        [ 1.,  2.,  3.,  4., 30., 28., 26., 24.]])"
            ]
          },
          "metadata": {},
          "execution_count": 8
        }
      ]
    },
    {
      "cell_type": "code",
      "source": [
        "res = np.dot(t4[0], t4[3])\n",
        "res"
      ],
      "metadata": {
        "colab": {
          "base_uri": "https://localhost:8080/"
        },
        "id": "VaL-3TvVU7Kv",
        "outputId": "8819c183-0bd9-455a-efbd-f5537c779bc4"
      },
      "execution_count": 11,
      "outputs": [
        {
          "output_type": "execute_result",
          "data": {
            "text/plain": [
              "50.0"
            ]
          },
          "metadata": {},
          "execution_count": 11
        }
      ]
    }
  ]
}